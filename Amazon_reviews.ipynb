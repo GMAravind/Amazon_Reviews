{
 "cells": [
  {
   "cell_type": "code",
   "execution_count": 2,
   "metadata": {
    "collapsed": false
   },
   "outputs": [],
   "source": [
    "from pyspark import Row\n",
    "from pyspark import SparkContext\n",
    "from pyspark.sql import SQLContext\n",
    "from pyspark.sql.types import *\n",
    "from pyspark.sql.functions import udf, concat, lit, struct\n",
    "from pyspark.sql.functions import monotonically_increasing_id, size, length\n",
    "import re\n",
    "from string import digits\n",
    "from pyspark.sql import Window\n",
    "from pyspark.sql import functions as F\n",
    "from nltk.corpus import stopwords\n",
    "import nltk\n",
    "import pandas as pd\n",
    "from pyspark.ml.feature import Tokenizer,CountVectorizer \n",
    "from nltk.stem.porter import *\n",
    "from pyspark.ml.clustering import LDA\n",
    "from pyspark.mllib.util import MLUtils\n",
    "from pyspark.mllib.regression import LabeledPoint,Vectors,array\n",
    "from operator import itemgetter\n",
    "from textblob import TextBlob"
   ]
  },
  {
   "cell_type": "code",
   "execution_count": 3,
   "metadata": {
    "collapsed": false
   },
   "outputs": [],
   "source": [
    "#Creating and Spark and SQl Context\n",
    "sc = SparkContext()\n",
    "sqlContext = SQLContext(sc)"
   ]
  },
  {
   "cell_type": "code",
   "execution_count": 4,
   "metadata": {
    "collapsed": false,
    "scrolled": true
   },
   "outputs": [
    {
     "data": {
      "text/html": [
       "<div>\n",
       "<table border=\"1\" class=\"dataframe\">\n",
       "  <thead>\n",
       "    <tr style=\"text-align: right;\">\n",
       "      <th></th>\n",
       "      <th>asin</th>\n",
       "      <th>helpful</th>\n",
       "      <th>overall</th>\n",
       "      <th>reviewText</th>\n",
       "      <th>reviewTime</th>\n",
       "      <th>reviewerID</th>\n",
       "      <th>reviewerName</th>\n",
       "      <th>summary</th>\n",
       "      <th>unixReviewTime</th>\n",
       "    </tr>\n",
       "  </thead>\n",
       "  <tbody>\n",
       "    <tr>\n",
       "      <th>0</th>\n",
       "      <td>120401325X</td>\n",
       "      <td>[0, 0]</td>\n",
       "      <td>4.0</td>\n",
       "      <td>They look good and stick good! I just don't li...</td>\n",
       "      <td>05 21, 2014</td>\n",
       "      <td>A30TL5EWN6DFXT</td>\n",
       "      <td>christina</td>\n",
       "      <td>Looks Good</td>\n",
       "      <td>1400630400</td>\n",
       "    </tr>\n",
       "    <tr>\n",
       "      <th>1</th>\n",
       "      <td>120401325X</td>\n",
       "      <td>[0, 0]</td>\n",
       "      <td>5.0</td>\n",
       "      <td>These stickers work like the review says they ...</td>\n",
       "      <td>01 14, 2014</td>\n",
       "      <td>ASY55RVNIL0UD</td>\n",
       "      <td>emily l.</td>\n",
       "      <td>Really great product.</td>\n",
       "      <td>1389657600</td>\n",
       "    </tr>\n",
       "  </tbody>\n",
       "</table>\n",
       "</div>"
      ],
      "text/plain": [
       "         asin helpful  overall  \\\n",
       "0  120401325X  [0, 0]      4.0   \n",
       "1  120401325X  [0, 0]      5.0   \n",
       "\n",
       "                                          reviewText   reviewTime  \\\n",
       "0  They look good and stick good! I just don't li...  05 21, 2014   \n",
       "1  These stickers work like the review says they ...  01 14, 2014   \n",
       "\n",
       "       reviewerID reviewerName                summary  unixReviewTime  \n",
       "0  A30TL5EWN6DFXT    christina             Looks Good      1400630400  \n",
       "1   ASY55RVNIL0UD     emily l.  Really great product.      1389657600  "
      ]
     },
     "execution_count": 4,
     "metadata": {},
     "output_type": "execute_result"
    }
   ],
   "source": [
    "#Load the json file\n",
    "amazon_reviews = sqlContext.read.json('/home/ubuntu/Cell_Phones_and_Accessories_5.json')\n",
    "amazon_reviews.first()\n",
    "amazon_reviews.registerTempTable(\"reviews\")\n",
    "sqlContext.sql(\"SELECT * FROM reviews LIMIT 2\").toPandas()"
   ]
  },
  {
   "cell_type": "code",
   "execution_count": 5,
   "metadata": {
    "collapsed": false
   },
   "outputs": [
    {
     "data": {
      "text/html": [
       "<div>\n",
       "<table border=\"1\" class=\"dataframe\">\n",
       "  <thead>\n",
       "    <tr style=\"text-align: right;\">\n",
       "      <th></th>\n",
       "      <th>asin</th>\n",
       "      <th>helpful</th>\n",
       "      <th>overall</th>\n",
       "      <th>reviewText</th>\n",
       "      <th>reviewTime</th>\n",
       "      <th>reviewerID</th>\n",
       "      <th>reviewerName</th>\n",
       "      <th>summary</th>\n",
       "      <th>unixReviewTime</th>\n",
       "    </tr>\n",
       "  </thead>\n",
       "  <tbody>\n",
       "    <tr>\n",
       "      <th>0</th>\n",
       "      <td>120401325X</td>\n",
       "      <td>[0, 0]</td>\n",
       "      <td>4.0</td>\n",
       "      <td>They look good and stick good! I just don't li...</td>\n",
       "      <td>05 21, 2014</td>\n",
       "      <td>A30TL5EWN6DFXT</td>\n",
       "      <td>christina</td>\n",
       "      <td>Looks Good</td>\n",
       "      <td>1400630400</td>\n",
       "    </tr>\n",
       "    <tr>\n",
       "      <th>1</th>\n",
       "      <td>120401325X</td>\n",
       "      <td>[0, 0]</td>\n",
       "      <td>5.0</td>\n",
       "      <td>These stickers work like the review says they ...</td>\n",
       "      <td>01 14, 2014</td>\n",
       "      <td>ASY55RVNIL0UD</td>\n",
       "      <td>emily l.</td>\n",
       "      <td>Really great product.</td>\n",
       "      <td>1389657600</td>\n",
       "    </tr>\n",
       "  </tbody>\n",
       "</table>\n",
       "</div>"
      ],
      "text/plain": [
       "         asin helpful  overall  \\\n",
       "0  120401325X  [0, 0]      4.0   \n",
       "1  120401325X  [0, 0]      5.0   \n",
       "\n",
       "                                          reviewText   reviewTime  \\\n",
       "0  They look good and stick good! I just don't li...  05 21, 2014   \n",
       "1  These stickers work like the review says they ...  01 14, 2014   \n",
       "\n",
       "       reviewerID reviewerName                summary  unixReviewTime  \n",
       "0  A30TL5EWN6DFXT    christina             Looks Good      1400630400  \n",
       "1   ASY55RVNIL0UD     emily l.  Really great product.      1389657600  "
      ]
     },
     "execution_count": 5,
     "metadata": {},
     "output_type": "execute_result"
    }
   ],
   "source": [
    "amazon_reviews.limit(2).toPandas()"
   ]
  },
  {
   "cell_type": "code",
   "execution_count": 6,
   "metadata": {
    "collapsed": false
   },
   "outputs": [],
   "source": [
    "#Helpful column represent the nunmber of people who found the review helpful upon the number of people who read the review\n",
    "#Calculating Helpfulness\n",
    "amazon_reviews = amazon_reviews.withColumn('helpfulness',(amazon_reviews.helpful[0]/amazon_reviews.helpful[1]))\n",
    "amazon_reviews = amazon_reviews.fillna(0)"
   ]
  },
  {
   "cell_type": "code",
   "execution_count": 7,
   "metadata": {
    "collapsed": false
   },
   "outputs": [
    {
     "name": "stdout",
     "output_type": "stream",
     "text": [
      "+-------+------------------+--------------------+-------------------+\n",
      "|summary|           overall|      unixReviewTime|        helpfulness|\n",
      "+-------+------------------+--------------------+-------------------+\n",
      "|  count|            194439|              194439|             194439|\n",
      "|   mean| 4.129912208970422|1.3687136230571027E9|0.19305457870106593|\n",
      "| stddev|1.2224991825084577|3.2300324670308113E7| 0.3724174398848259|\n",
      "|    min|               1.0|           982800000|                0.0|\n",
      "|    max|               5.0|          1406073600|                1.0|\n",
      "+-------+------------------+--------------------+-------------------+\n",
      "\n"
     ]
    }
   ],
   "source": [
    "#Summary of the data\n",
    "amazon_reviews.describe().show()"
   ]
  },
  {
   "cell_type": "code",
   "execution_count": 8,
   "metadata": {
    "collapsed": true
   },
   "outputs": [],
   "source": [
    "#Understanding the proportion of reviews which is helpful to understand the skewness in the dataset\n",
    "helpful_reviews = amazon_reviews.filter(amazon_reviews.helpfulness > 0).count()"
   ]
  },
  {
   "cell_type": "code",
   "execution_count": 9,
   "metadata": {
    "collapsed": false
   },
   "outputs": [
    {
     "name": "stdout",
     "output_type": "stream",
     "text": [
      "Propotion of reviews having helpfulness greater than zero is 0.22444057005024712\n"
     ]
    }
   ],
   "source": [
    "print (\"Propotion of reviews having helpfulness greater than zero is\" + \" \" + str(helpful_reviews/float(194439)))"
   ]
  },
  {
   "cell_type": "code",
   "execution_count": 10,
   "metadata": {
    "collapsed": false
   },
   "outputs": [
    {
     "data": {
      "text/html": [
       "<div>\n",
       "<table border=\"1\" class=\"dataframe\">\n",
       "  <thead>\n",
       "    <tr style=\"text-align: right;\">\n",
       "      <th></th>\n",
       "      <th>asin</th>\n",
       "      <th>helpful</th>\n",
       "      <th>overall</th>\n",
       "      <th>reviewText</th>\n",
       "      <th>reviewTime</th>\n",
       "      <th>reviewerID</th>\n",
       "      <th>reviewerName</th>\n",
       "      <th>summary</th>\n",
       "      <th>unixReviewTime</th>\n",
       "      <th>helpfulness</th>\n",
       "      <th>id</th>\n",
       "    </tr>\n",
       "  </thead>\n",
       "  <tbody>\n",
       "    <tr>\n",
       "      <th>0</th>\n",
       "      <td>120401325X</td>\n",
       "      <td>[0, 0]</td>\n",
       "      <td>4.0</td>\n",
       "      <td>They look good and stick good! I just don't li...</td>\n",
       "      <td>05 21, 2014</td>\n",
       "      <td>A30TL5EWN6DFXT</td>\n",
       "      <td>christina</td>\n",
       "      <td>Looks Good</td>\n",
       "      <td>1400630400</td>\n",
       "      <td>0.0</td>\n",
       "      <td>0</td>\n",
       "    </tr>\n",
       "    <tr>\n",
       "      <th>1</th>\n",
       "      <td>120401325X</td>\n",
       "      <td>[0, 0]</td>\n",
       "      <td>5.0</td>\n",
       "      <td>These stickers work like the review says they ...</td>\n",
       "      <td>01 14, 2014</td>\n",
       "      <td>ASY55RVNIL0UD</td>\n",
       "      <td>emily l.</td>\n",
       "      <td>Really great product.</td>\n",
       "      <td>1389657600</td>\n",
       "      <td>0.0</td>\n",
       "      <td>1</td>\n",
       "    </tr>\n",
       "  </tbody>\n",
       "</table>\n",
       "</div>"
      ],
      "text/plain": [
       "         asin helpful  overall  \\\n",
       "0  120401325X  [0, 0]      4.0   \n",
       "1  120401325X  [0, 0]      5.0   \n",
       "\n",
       "                                          reviewText   reviewTime  \\\n",
       "0  They look good and stick good! I just don't li...  05 21, 2014   \n",
       "1  These stickers work like the review says they ...  01 14, 2014   \n",
       "\n",
       "       reviewerID reviewerName                summary  unixReviewTime  \\\n",
       "0  A30TL5EWN6DFXT    christina             Looks Good      1400630400   \n",
       "1   ASY55RVNIL0UD     emily l.  Really great product.      1389657600   \n",
       "\n",
       "   helpfulness  id  \n",
       "0          0.0   0  \n",
       "1          0.0   1  "
      ]
     },
     "execution_count": 10,
     "metadata": {},
     "output_type": "execute_result"
    }
   ],
   "source": [
    "# Creating a Unique ID for each review\n",
    "amazon_reviews = amazon_reviews.withColumn(\"id\", monotonically_increasing_id())\n",
    "amazon_reviews.limit(2).toPandas()"
   ]
  },
  {
   "cell_type": "code",
   "execution_count": 11,
   "metadata": {
    "collapsed": false
   },
   "outputs": [
    {
     "name": "stdout",
     "output_type": "stream",
     "text": [
      "+-----------------------------------------------------------------------------------------------------------------------------------------------------------------------------------------------------------------------------------------------------------------------------+\n",
      "|reviewText_clean                                                                                                                                                                                                                                                             |\n",
      "+-----------------------------------------------------------------------------------------------------------------------------------------------------------------------------------------------------------------------------------------------------------------------------+\n",
      "|they look good and stick good i just dont like the rounded shape because i was always bumping it and siri kept popping up and it was irritating i just wont buy a product like this again                                                                                    |\n",
      "|these stickers work like the review says they do they stick on great and they stay on the phone they are super stylish and i can share them with my sister                                                                                                                   |\n",
      "|these are awesome and make my phone look so stylish i have only used one so far and have had it on for almost a year can you believe that one year great quality                                                                                                             |\n",
      "|item arrived in great time and was in perfect condition however i ordered these buttons because they were a great deal and included a free screen protector i never received one though its not a big deal it wouldve been nice to get it since they claim it comes with one |\n",
      "+-----------------------------------------------------------------------------------------------------------------------------------------------------------------------------------------------------------------------------------------------------------------------------+\n",
      "only showing top 4 rows\n",
      "\n"
     ]
    }
   ],
   "source": [
    "#Removing special characters and digits from the review\n",
    "def remove_spl_numeric(review):\n",
    "    review = review.replace(\"'\",\"\").lower()\n",
    "    cleanString = re.sub('\\W+',' ', review )\n",
    "    remove_digits = str.maketrans(\"\",\"\",digits)\n",
    "    res = cleanString.translate(remove_digits)\n",
    "    return res\n",
    "\n",
    "review_clean = udf(remove_spl_numeric,StringType())\n",
    "amazon_reviews = amazon_reviews.withColumn(\"reviewText_clean\",review_clean(amazon_reviews.reviewText))\n",
    "\n",
    "amazon_reviews.select(\"reviewText_clean\").show(4,False)\n",
    "    \n",
    "  "
   ]
  },
  {
   "cell_type": "code",
   "execution_count": 13,
   "metadata": {
    "collapsed": false
   },
   "outputs": [],
   "source": [
    "# Calculate the number of reviews for each product\n",
    "product_count = amazon_reviews.select(\"asin\").rdd.map(lambda asin:(asin,1)).reduceByKey(lambda a,b:a+b).toDF()"
   ]
  },
  {
   "cell_type": "code",
   "execution_count": 14,
   "metadata": {
    "collapsed": false
   },
   "outputs": [
    {
     "name": "stdout",
     "output_type": "stream",
     "text": [
      "root\n",
      " |-- _1: struct (nullable = true)\n",
      " |    |-- asin: string (nullable = true)\n",
      " |-- _2: long (nullable = true)\n",
      "\n"
     ]
    }
   ],
   "source": [
    "product_count.printSchema()"
   ]
  },
  {
   "cell_type": "code",
   "execution_count": 15,
   "metadata": {
    "collapsed": false
   },
   "outputs": [],
   "source": [
    "def extract_one(asin):\n",
    "    return asin[0]\n",
    "\n",
    "extract = udf(extract_one,StringType())\n",
    "product_count = product_count.withColumn(\"_1\",extract(product_count._1)).withColumnRenamed(\"_1\",\"asin\")"
   ]
  },
  {
   "cell_type": "code",
   "execution_count": 16,
   "metadata": {
    "collapsed": true
   },
   "outputs": [],
   "source": [
    "product_count = product_count.withColumnRenamed(\"_2\",\"count\")"
   ]
  },
  {
   "cell_type": "code",
   "execution_count": 17,
   "metadata": {
    "collapsed": false
   },
   "outputs": [
    {
     "data": {
      "text/html": [
       "<div>\n",
       "<table border=\"1\" class=\"dataframe\">\n",
       "  <thead>\n",
       "    <tr style=\"text-align: right;\">\n",
       "      <th></th>\n",
       "      <th>asin</th>\n",
       "      <th>count</th>\n",
       "      <th>CUM_SUM</th>\n",
       "    </tr>\n",
       "  </thead>\n",
       "  <tbody>\n",
       "    <tr>\n",
       "      <th>0</th>\n",
       "      <td>B005SUHPO6</td>\n",
       "      <td>837</td>\n",
       "      <td>837</td>\n",
       "    </tr>\n",
       "    <tr>\n",
       "      <th>1</th>\n",
       "      <td>B0042FV2SI</td>\n",
       "      <td>694</td>\n",
       "      <td>1531</td>\n",
       "    </tr>\n",
       "    <tr>\n",
       "      <th>2</th>\n",
       "      <td>B008OHNZI0</td>\n",
       "      <td>657</td>\n",
       "      <td>2188</td>\n",
       "    </tr>\n",
       "    <tr>\n",
       "      <th>3</th>\n",
       "      <td>B009RXU59C</td>\n",
       "      <td>636</td>\n",
       "      <td>2824</td>\n",
       "    </tr>\n",
       "    <tr>\n",
       "      <th>4</th>\n",
       "      <td>B000S5Q9CA</td>\n",
       "      <td>628</td>\n",
       "      <td>3452</td>\n",
       "    </tr>\n",
       "    <tr>\n",
       "      <th>5</th>\n",
       "      <td>B007FHX9OK</td>\n",
       "      <td>557</td>\n",
       "      <td>4009</td>\n",
       "    </tr>\n",
       "    <tr>\n",
       "      <th>6</th>\n",
       "      <td>B0073FCPSK</td>\n",
       "      <td>526</td>\n",
       "      <td>4535</td>\n",
       "    </tr>\n",
       "    <tr>\n",
       "      <th>7</th>\n",
       "      <td>B008DJIIG8</td>\n",
       "      <td>510</td>\n",
       "      <td>5045</td>\n",
       "    </tr>\n",
       "    <tr>\n",
       "      <th>8</th>\n",
       "      <td>B0088LYCZC</td>\n",
       "      <td>488</td>\n",
       "      <td>5533</td>\n",
       "    </tr>\n",
       "    <tr>\n",
       "      <th>9</th>\n",
       "      <td>B0015RB39O</td>\n",
       "      <td>466</td>\n",
       "      <td>5999</td>\n",
       "    </tr>\n",
       "  </tbody>\n",
       "</table>\n",
       "</div>"
      ],
      "text/plain": [
       "         asin  count  CUM_SUM\n",
       "0  B005SUHPO6    837      837\n",
       "1  B0042FV2SI    694     1531\n",
       "2  B008OHNZI0    657     2188\n",
       "3  B009RXU59C    636     2824\n",
       "4  B000S5Q9CA    628     3452\n",
       "5  B007FHX9OK    557     4009\n",
       "6  B0073FCPSK    526     4535\n",
       "7  B008DJIIG8    510     5045\n",
       "8  B0088LYCZC    488     5533\n",
       "9  B0015RB39O    466     5999"
      ]
     },
     "execution_count": 17,
     "metadata": {},
     "output_type": "execute_result"
    }
   ],
   "source": [
    "#Create a cummulative sum column to identify products with ample amount of reviews\n",
    "product_count.registerTempTable(\"prod_count\")\n",
    "product_count = sqlContext.sql(\"SELECT *,sum(count) OVER (ORDER BY COUNT DESC ROWS UNBOUNDED PRECEDING) AS CUM_SUM FROM prod_count\")\n",
    "product_count.limit(10).toPandas()"
   ]
  },
  {
   "cell_type": "code",
   "execution_count": 18,
   "metadata": {
    "collapsed": false
   },
   "outputs": [
    {
     "data": {
      "text/html": [
       "<div>\n",
       "<table border=\"1\" class=\"dataframe\">\n",
       "  <thead>\n",
       "    <tr style=\"text-align: right;\">\n",
       "      <th></th>\n",
       "      <th>asin</th>\n",
       "      <th>count</th>\n",
       "      <th>CUM_SUM</th>\n",
       "      <th>per_reviews</th>\n",
       "    </tr>\n",
       "  </thead>\n",
       "  <tbody>\n",
       "    <tr>\n",
       "      <th>0</th>\n",
       "      <td>B005SUHPO6</td>\n",
       "      <td>837</td>\n",
       "      <td>837</td>\n",
       "      <td>0.004305</td>\n",
       "    </tr>\n",
       "    <tr>\n",
       "      <th>1</th>\n",
       "      <td>B0042FV2SI</td>\n",
       "      <td>694</td>\n",
       "      <td>1531</td>\n",
       "      <td>0.007874</td>\n",
       "    </tr>\n",
       "  </tbody>\n",
       "</table>\n",
       "</div>"
      ],
      "text/plain": [
       "         asin  count  CUM_SUM  per_reviews\n",
       "0  B005SUHPO6    837      837     0.004305\n",
       "1  B0042FV2SI    694     1531     0.007874"
      ]
     },
     "execution_count": 18,
     "metadata": {},
     "output_type": "execute_result"
    }
   ],
   "source": [
    "#Calculate the percentage contibution of total reviews by product\n",
    "product_count = product_count.withColumn(\"per_reviews\",(product_count.CUM_SUM/float(194439)))\n",
    "product_count.limit(2).toPandas()"
   ]
  },
  {
   "cell_type": "code",
   "execution_count": 19,
   "metadata": {
    "collapsed": false
   },
   "outputs": [
    {
     "data": {
      "text/plain": [
       "10429"
      ]
     },
     "execution_count": 19,
     "metadata": {},
     "output_type": "execute_result"
    }
   ],
   "source": [
    "product_count.count()"
   ]
  },
  {
   "cell_type": "code",
   "execution_count": 20,
   "metadata": {
    "collapsed": false
   },
   "outputs": [],
   "source": [
    "# Filter for top products contributing to ~70% of total reviews\n",
    "product_count = product_count.filter(product_count.per_reviews <= 0.70)"
   ]
  },
  {
   "cell_type": "code",
   "execution_count": 21,
   "metadata": {
    "collapsed": false
   },
   "outputs": [
    {
     "data": {
      "text/plain": [
       "3104"
      ]
     },
     "execution_count": 21,
     "metadata": {},
     "output_type": "execute_result"
    }
   ],
   "source": [
    "product_count.count()"
   ]
  },
  {
   "cell_type": "markdown",
   "metadata": {},
   "source": [
    "## 30% of total products contribute to 70% of total reviews"
   ]
  },
  {
   "cell_type": "code",
   "execution_count": 22,
   "metadata": {
    "collapsed": false
   },
   "outputs": [
    {
     "name": "stdout",
     "output_type": "stream",
     "text": [
      "[nltk_data] Downloading package stopwords to /home/ubuntu/nltk_data...\n",
      "[nltk_data]   Package stopwords is already up-to-date!\n"
     ]
    }
   ],
   "source": [
    "#Filtering for the required columns\n",
    "amazon_reviews = amazon_reviews.select(\"id\",\"asin\",\"reviewText_clean\",\"helpfulness\",\"reviewText\")\n",
    "\n",
    "#Stopwords\n",
    "#Removing the stop words from the reviews\n",
    "nltk.download('stopwords')\n",
    "cachedStopWords = stopwords.words(\"english\")\n",
    "\n",
    "#Stopwords removal\n",
    "def stop_words_removal(review):\n",
    "    review = ' '.join([word for word in review.split() if word not in cachedStopWords])\n",
    "    return review\n",
    "stop_words = udf(stop_words_removal,StringType())\n",
    "amazon_reviews = amazon_reviews.withColumn(\"review_wo_stop\",stop_words(amazon_reviews.reviewText_clean))"
   ]
  },
  {
   "cell_type": "code",
   "execution_count": 21,
   "metadata": {
    "collapsed": false
   },
   "outputs": [
    {
     "data": {
      "text/html": [
       "<div>\n",
       "<table border=\"1\" class=\"dataframe\">\n",
       "  <thead>\n",
       "    <tr style=\"text-align: right;\">\n",
       "      <th></th>\n",
       "      <th>review_token</th>\n",
       "      <th>rev_stemmed</th>\n",
       "    </tr>\n",
       "  </thead>\n",
       "  <tbody>\n",
       "    <tr>\n",
       "      <th>0</th>\n",
       "      <td>[look, good, stick, good, dont, like, rounded,...</td>\n",
       "      <td>[look, good, stick, good, dont, like, round, s...</td>\n",
       "    </tr>\n",
       "    <tr>\n",
       "      <th>1</th>\n",
       "      <td>[stickers, work, like, review, says, stick, gr...</td>\n",
       "      <td>[sticker, work, like, review, say, stick, grea...</td>\n",
       "    </tr>\n",
       "  </tbody>\n",
       "</table>\n",
       "</div>"
      ],
      "text/plain": [
       "                                        review_token  \\\n",
       "0  [look, good, stick, good, dont, like, rounded,...   \n",
       "1  [stickers, work, like, review, says, stick, gr...   \n",
       "\n",
       "                                         rev_stemmed  \n",
       "0  [look, good, stick, good, dont, like, round, s...  \n",
       "1  [sticker, work, like, review, say, stick, grea...  "
      ]
     },
     "execution_count": 21,
     "metadata": {},
     "output_type": "execute_result"
    }
   ],
   "source": [
    "#Tokenize\n",
    "tokenizer = Tokenizer(inputCol=\"review_wo_stop\",outputCol=\"review_token\")\n",
    "tokenized = tokenizer.transform(amazon_reviews)\n",
    "\n",
    "#Lemmatization\n",
    "\n",
    "#Stemming\n",
    "stemmer = PorterStemmer()\n",
    "\n",
    "#Function for stemming\n",
    "def stem_words(rev_tok):\n",
    "    rev_stem = []\n",
    "    for word in rev_tok:\n",
    "        stem_word = stemmer.stem(word)\n",
    "        if len(stem_word) > 2:\n",
    "            rev_stem.append(stem_word)\n",
    "    return rev_stem\n",
    "\n",
    "stem = udf(stem_words,ArrayType(StringType()))\n",
    "\n",
    "stemmed = tokenized.withColumn(\"rev_stemmed\",stem(tokenized.review_token))\n",
    "\n",
    "stemmed.select(\"review_token\",\"rev_stemmed\").limit(2).toPandas()  \n"
   ]
  },
  {
   "cell_type": "markdown",
   "metadata": {},
   "source": [
    "# Topic modelling requires data in the form of documents. Hence, collecting reviews by product to create documents. "
   ]
  },
  {
   "cell_type": "code",
   "execution_count": 22,
   "metadata": {
    "collapsed": false
   },
   "outputs": [
    {
     "data": {
      "text/html": [
       "<div>\n",
       "<table border=\"1\" class=\"dataframe\">\n",
       "  <thead>\n",
       "    <tr style=\"text-align: right;\">\n",
       "      <th></th>\n",
       "      <th>_1</th>\n",
       "      <th>_2</th>\n",
       "    </tr>\n",
       "  </thead>\n",
       "  <tbody>\n",
       "    <tr>\n",
       "      <th>0</th>\n",
       "      <td>B001UO45SI</td>\n",
       "      <td>[complain, someth, would, buy, long, term, use...</td>\n",
       "    </tr>\n",
       "    <tr>\n",
       "      <th>1</th>\n",
       "      <td>B00IZOU1JS</td>\n",
       "      <td>[work, flawlessli, howev, enjoy, sleep, dark, ...</td>\n",
       "    </tr>\n",
       "  </tbody>\n",
       "</table>\n",
       "</div>"
      ],
      "text/plain": [
       "           _1                                                 _2\n",
       "0  B001UO45SI  [complain, someth, would, buy, long, term, use...\n",
       "1  B00IZOU1JS  [work, flawlessli, howev, enjoy, sleep, dark, ..."
      ]
     },
     "execution_count": 22,
     "metadata": {},
     "output_type": "execute_result"
    }
   ],
   "source": [
    "product_review = stemmed.select(\"asin\",\"rev_stemmed\").rdd.map(lambda row:(row[0],row[1])).reduceByKey(lambda a,b :a +b).toDF()\n",
    "product_review.limit(2).toPandas()"
   ]
  },
  {
   "cell_type": "code",
   "execution_count": 23,
   "metadata": {
    "collapsed": false
   },
   "outputs": [
    {
     "data": {
      "text/plain": [
       "10429"
      ]
     },
     "execution_count": 23,
     "metadata": {},
     "output_type": "execute_result"
    }
   ],
   "source": [
    "product_review = product_review.withColumnRenamed(\"_1\",\"asin\")\n",
    "product_review = product_review.withColumnRenamed(\"_2\",\"Reviews_combined\")\n",
    "product_review.count()"
   ]
  },
  {
   "cell_type": "code",
   "execution_count": 24,
   "metadata": {
    "collapsed": false
   },
   "outputs": [
    {
     "data": {
      "text/plain": [
       "3104"
      ]
     },
     "execution_count": 24,
     "metadata": {},
     "output_type": "execute_result"
    }
   ],
   "source": [
    "product_count.count()"
   ]
  },
  {
   "cell_type": "markdown",
   "metadata": {},
   "source": [
    "# Merging combined reviews with top products"
   ]
  },
  {
   "cell_type": "code",
   "execution_count": 25,
   "metadata": {
    "collapsed": false
   },
   "outputs": [
    {
     "data": {
      "text/plain": [
       "3104"
      ]
     },
     "execution_count": 25,
     "metadata": {},
     "output_type": "execute_result"
    }
   ],
   "source": [
    "top_rev_prod = product_count.join(product_review,\"asin\", how = \"left\" )\n",
    "top_rev_prod.count()"
   ]
  },
  {
   "cell_type": "code",
   "execution_count": 26,
   "metadata": {
    "collapsed": false
   },
   "outputs": [
    {
     "data": {
      "text/plain": [
       "['asin', 'count', 'CUM_SUM', 'per_reviews', 'Reviews_combined', 'id']"
      ]
     },
     "execution_count": 26,
     "metadata": {},
     "output_type": "execute_result"
    }
   ],
   "source": [
    "# Creating a unique ID for each document\n",
    "top_rev_prod = top_rev_prod.withColumn(\"id\", monotonically_increasing_id())\n",
    "top_rev_prod.columns"
   ]
  },
  {
   "cell_type": "markdown",
   "metadata": {},
   "source": [
    "# Create a sparse vector to be used as an input for Topic Modelling"
   ]
  },
  {
   "cell_type": "code",
   "execution_count": 27,
   "metadata": {
    "collapsed": false
   },
   "outputs": [],
   "source": [
    "# Count vectorize to create a vector which contains the count of words by each word in the vocabulary\n",
    "cv = CountVectorizer(inputCol=\"Reviews_combined\", outputCol=\"vectors\")\n",
    "count_vectorizer_model = cv.fit(top_rev_prod)\n",
    "final_review = count_vectorizer_model.transform(top_rev_prod)"
   ]
  },
  {
   "cell_type": "markdown",
   "metadata": {},
   "source": [
    "# Filter for ID and sparse vector"
   ]
  },
  {
   "cell_type": "code",
   "execution_count": 35,
   "metadata": {
    "collapsed": false
   },
   "outputs": [],
   "source": [
    "#Creating the corpus\n",
    "corpus = final_review.select(F.col(\"id\").cast(\"long\"),\"vectors\")\n",
    "corpus = corpus.withColumnRenamed(\"id\",\"label\")\n",
    "corpus = corpus.withColumnRenamed(\"vectors\",\"features\")\n",
    " "
   ]
  },
  {
   "cell_type": "code",
   "execution_count": 41,
   "metadata": {
    "collapsed": false
   },
   "outputs": [],
   "source": [
    "\n",
    "#training data\n",
    "lda = LDA(k=3, seed=12, maxIter=20)\n",
    "model = lda.fit(corpus)"
   ]
  },
  {
   "cell_type": "code",
   "execution_count": 42,
   "metadata": {
    "collapsed": false
   },
   "outputs": [],
   "source": [
    "# extracting topics\n",
    "topics = model.describeTopics(maxTermsPerTopic=10)\n"
   ]
  },
  {
   "cell_type": "code",
   "execution_count": 43,
   "metadata": {
    "collapsed": false
   },
   "outputs": [],
   "source": [
    "#extraction vocabulary\n",
    "vocabulary = count_vectorizer_model.vocabulary\n"
   ]
  },
  {
   "cell_type": "code",
   "execution_count": 44,
   "metadata": {
    "collapsed": false
   },
   "outputs": [],
   "source": [
    "indices_rdd = topics.select(\"termIndices\").rdd.map(lambda x : x[0]).map(lambda y : [vocabulary[i] for i in y])"
   ]
  },
  {
   "cell_type": "code",
   "execution_count": 1,
   "metadata": {
    "collapsed": false
   },
   "outputs": [
    {
     "name": "stdout",
     "output_type": "stream",
     "text": [
      "[['case', 'screen', 'protect', 'get', 'work', 'well'], ['charge', 'battery', 'charger', 'device', 'work', 'time']]\n"
     ]
    }
   ],
   "source": [
    "indices_rdd.collect()"
   ]
  },
  {
   "cell_type": "markdown",
   "metadata": {},
   "source": [
    "**Filter the sentences in the review based on the identified topics**"
   ]
  },
  {
   "cell_type": "code",
   "execution_count": 47,
   "metadata": {
    "collapsed": false
   },
   "outputs": [],
   "source": [
    "topic_1 = indices_rdd.take(2)[1]\n",
    "\n",
    "topic_2 = indices_rdd.take(3)[2]\n"
   ]
  },
  {
   "cell_type": "code",
   "execution_count": 50,
   "metadata": {
    "collapsed": false
   },
   "outputs": [
    {
     "data": {
      "text/plain": [
       "['case',\n",
       " 'phone',\n",
       " 'use',\n",
       " 'screen',\n",
       " 'one',\n",
       " 'protect',\n",
       " 'get',\n",
       " 'like',\n",
       " 'work',\n",
       " 'well']"
      ]
     },
     "execution_count": 50,
     "metadata": {},
     "output_type": "execute_result"
    }
   ],
   "source": [
    "topic_1"
   ]
  },
  {
   "cell_type": "code",
   "execution_count": 51,
   "metadata": {
    "collapsed": false
   },
   "outputs": [
    {
     "data": {
      "text/plain": [
       "['charg',\n",
       " 'phone',\n",
       " 'use',\n",
       " 'batteri',\n",
       " 'one',\n",
       " 'charger',\n",
       " 'devic',\n",
       " 'like',\n",
       " 'work',\n",
       " 'time']"
      ]
     },
     "execution_count": 51,
     "metadata": {},
     "output_type": "execute_result"
    }
   ],
   "source": [
    "topic_2"
   ]
  },
  {
   "cell_type": "markdown",
   "metadata": {},
   "source": [
    "## Filtering for keywords from reviews and saving it in spearate columns for each review"
   ]
  },
  {
   "cell_type": "code",
   "execution_count": 18,
   "metadata": {
    "collapsed": false
   },
   "outputs": [],
   "source": [
    "# Filter for key words from the reviews\n",
    "topic_1 = ['case','screen','protect','get','work','well']\n",
    "topic_2 = ['charge','battery','charger','device','work','time']\n",
    "\n"
   ]
  },
  {
   "cell_type": "code",
   "execution_count": 23,
   "metadata": {
    "collapsed": false
   },
   "outputs": [
    {
     "name": "stdout",
     "output_type": "stream",
     "text": [
      "root\n",
      " |-- id: long (nullable = false)\n",
      " |-- asin: string (nullable = true)\n",
      " |-- reviewText_clean: string (nullable = true)\n",
      " |-- helpfulness: double (nullable = false)\n",
      " |-- reviewText: string (nullable = true)\n",
      " |-- review_wo_stop: string (nullable = true)\n",
      "\n"
     ]
    }
   ],
   "source": [
    "amazon_reviews.printSchema()"
   ]
  },
  {
   "cell_type": "code",
   "execution_count": 24,
   "metadata": {
    "collapsed": false
   },
   "outputs": [
    {
     "name": "stdout",
     "output_type": "stream",
     "text": [
      "root\n",
      " |-- id: long (nullable = false)\n",
      " |-- asin: string (nullable = true)\n",
      " |-- reviewText_clean: string (nullable = true)\n",
      " |-- helpfulness: double (nullable = false)\n",
      " |-- reviewText: string (nullable = true)\n",
      " |-- review_wo_stop: string (nullable = true)\n",
      " |-- topic_1: string (nullable = true)\n",
      "\n"
     ]
    }
   ],
   "source": [
    "def assign_topic_1(rev):\n",
    "    rev = rev.replace(\"'\",\"\").lower()\n",
    "    top_1_sent = []\n",
    "    \n",
    "    #split it by full stop\n",
    "    review_sent = rev.split('.')\n",
    "    for sent in review_sent:\n",
    "        cleanString = re.sub('\\W+',' ', sent)\n",
    "        remove_digits = str.maketrans(\"\",\"\",digits)\n",
    "        res = cleanString.translate(remove_digits)\n",
    "        res = res.split()\n",
    "        len_top_1 = len(set(res).intersection(set(topic_1))) \n",
    "        if len_top_1 > 0:\n",
    "            top_1_sent.append(sent)\n",
    "    return top_1_sent\n",
    "\n",
    "top_1 = udf(assign_topic_1,StringType())\n",
    "amazon_reviews = amazon_reviews.withColumn(\"topic_1\",top_1(amazon_reviews.reviewText))\n",
    "            \n",
    "amazon_reviews.printSchema()"
   ]
  },
  {
   "cell_type": "code",
   "execution_count": 25,
   "metadata": {
    "collapsed": false
   },
   "outputs": [
    {
     "name": "stdout",
     "output_type": "stream",
     "text": [
      "root\n",
      " |-- id: long (nullable = false)\n",
      " |-- asin: string (nullable = true)\n",
      " |-- reviewText_clean: string (nullable = true)\n",
      " |-- helpfulness: double (nullable = false)\n",
      " |-- reviewText: string (nullable = true)\n",
      " |-- review_wo_stop: string (nullable = true)\n",
      " |-- topic_1: string (nullable = true)\n",
      " |-- topic_2: string (nullable = true)\n",
      "\n"
     ]
    }
   ],
   "source": [
    "def assign_topic_2(rev):\n",
    "    rev = rev.replace(\"'\",\"\").lower()\n",
    "    top_2_sent = []\n",
    "    \n",
    "    #split it by full stop\n",
    "    review_sent = rev.split('.')\n",
    "    for sent in review_sent:\n",
    "        \n",
    "        cleanString = re.sub('\\W+',' ', sent)\n",
    "        remove_digits = str.maketrans(\"\",\"\",digits)\n",
    "        res = cleanString.translate(remove_digits)\n",
    "        res = res.split()\n",
    "       \n",
    "        len_top_2 = len(set(res).intersection(set(topic_2))) \n",
    "        if len_top_2 > 0:\n",
    "            top_2_sent.append(sent)\n",
    "    print (type(top_2_sent))\n",
    "    return top_2_sent\n",
    "\n",
    "top_2 = udf(assign_topic_2,StringType())\n",
    "amazon_reviews = amazon_reviews.withColumn(\"topic_2\",top_2(amazon_reviews.reviewText))\n",
    "            \n",
    "amazon_reviews.printSchema()"
   ]
  },
  {
   "cell_type": "code",
   "execution_count": 26,
   "metadata": {
    "collapsed": false
   },
   "outputs": [],
   "source": [
    "def senti(rev):\n",
    "    return TextBlob(str(rev)).sentiment.polarity\n",
    "def sub(rev):\n",
    "    return TextBlob(str(rev)).sentiment.subjectivity\n",
    "\n",
    "sentiment = udf(senti,FloatType())\n",
    "subjectivity = udf(sub,FloatType())\n",
    "amazon_reviews = amazon_reviews.withColumn(\"topic_1_pol\",sentiment(amazon_reviews.topic_1))\n",
    "amazon_reviews = amazon_reviews.withColumn(\"topic_1_sub\",subjectivity(amazon_reviews.topic_1))\n",
    "amazon_reviews = amazon_reviews.withColumn(\"topic_2_pol\",sentiment(amazon_reviews.topic_2))\n",
    "amazon_reviews = amazon_reviews.withColumn(\"topic_2_sub\",subjectivity(amazon_reviews.topic_2))"
   ]
  },
  {
   "cell_type": "code",
   "execution_count": 27,
   "metadata": {
    "collapsed": false
   },
   "outputs": [
    {
     "name": "stdout",
     "output_type": "stream",
     "text": [
      "root\n",
      " |-- id: long (nullable = false)\n",
      " |-- asin: string (nullable = true)\n",
      " |-- reviewText_clean: string (nullable = true)\n",
      " |-- helpfulness: double (nullable = false)\n",
      " |-- reviewText: string (nullable = true)\n",
      " |-- review_wo_stop: string (nullable = true)\n",
      " |-- topic_1: string (nullable = true)\n",
      " |-- topic_2: string (nullable = true)\n",
      " |-- topic_1_pol: float (nullable = true)\n",
      " |-- topic_1_sub: float (nullable = true)\n",
      " |-- topic_2_pol: float (nullable = true)\n",
      " |-- topic_2_sub: float (nullable = true)\n",
      "\n"
     ]
    }
   ],
   "source": [
    "amazon_reviews.printSchema()"
   ]
  },
  {
   "cell_type": "code",
   "execution_count": 28,
   "metadata": {
    "collapsed": false
   },
   "outputs": [],
   "source": [
    "amazon_rev_fil = amazon_reviews.filter((amazon_reviews.topic_1_pol != 0) | (amazon_reviews.topic_2_pol != 0))\n"
   ]
  },
  {
   "cell_type": "code",
   "execution_count": 29,
   "metadata": {
    "collapsed": false
   },
   "outputs": [
    {
     "data": {
      "text/plain": [
       "134076"
      ]
     },
     "execution_count": 29,
     "metadata": {},
     "output_type": "execute_result"
    }
   ],
   "source": [
    "#amazon_rev_fil = amazon_rev_fil.withColumnRenamed(\"helpfulness\",\"\")\n",
    "amazon_rev_fil.count()"
   ]
  },
  {
   "cell_type": "code",
   "execution_count": 30,
   "metadata": {
    "collapsed": false
   },
   "outputs": [],
   "source": [
    "from pyspark.ml.regression import LinearRegression\n",
    "from pyspark.ml.feature import (VectorAssembler,VectorIndexer,\n",
    "                                OneHotEncoder,StringIndexer)\n",
    "\n",
    "train, test = amazon_rev_fil.randomSplit([0.9, 0.1], seed=12345)\n",
    "\n",
    "numeric_cols = [\"topic_1_pol\",\"topic_1_sub\",\"topic_2_pol\",\"topic_2_sub\"]\n",
    "assembler = VectorAssembler(inputCols=numeric_cols, outputCol=\"features\")\n",
    "lr = LinearRegression(maxIter=10, featuresCol=\"features\",labelCol=\"helpfulness\")\n",
    "training = assembler.transform(train)\n",
    "testing = assembler.transform(test)\n",
    "# Fit the model\n",
    "lrModel = lr.fit(training)"
   ]
  },
  {
   "cell_type": "code",
   "execution_count": 31,
   "metadata": {
    "collapsed": false
   },
   "outputs": [
    {
     "name": "stdout",
     "output_type": "stream",
     "text": [
      "+---+----------+--------------------+-----------+--------------------+--------------------+--------------------+--------------------+-----------+-----------+-----------+-----------+--------------------+------------------+\n",
      "| id|      asin|    reviewText_clean|helpfulness|          reviewText|      review_wo_stop|             topic_1|             topic_2|topic_1_pol|topic_1_sub|topic_2_pol|topic_2_sub|            features|        prediction|\n",
      "+---+----------+--------------------+-----------+--------------------+--------------------+--------------------+--------------------+-----------+-----------+-----------+-----------+--------------------+------------------+\n",
      "|  9|3998899561|this is a fantast...|        1.0|This is a fantast...|fantastic case st...|[this is a fantas...|                  []|        0.4|        0.9|        0.0|        0.0|[0.40000000596046...|0.1938141631563738|\n",
      "| 13|3998899561|unlike most of th...|       0.75|Unlike Most of th...|unlike rechargeab...|[ it doesnt heat ...|[unlike most of t...| 0.21626984|  0.5303571|       0.54|       0.44|[0.21626983582973...|0.2167083592145319|\n",
      "+---+----------+--------------------+-----------+--------------------+--------------------+--------------------+--------------------+-----------+-----------+-----------+-----------+--------------------+------------------+\n",
      "only showing top 2 rows\n",
      "\n"
     ]
    }
   ],
   "source": [
    "results = lrModel.transform(testing)\n",
    "results.show(2)"
   ]
  },
  {
   "cell_type": "code",
   "execution_count": 33,
   "metadata": {
    "collapsed": false
   },
   "outputs": [
    {
     "name": "stdout",
     "output_type": "stream",
     "text": [
      "Coefficients: [-0.0545240120062,0.0509638244982,-0.0765281410936,0.166000231385]\n",
      "Intercept: 0.1697563274505073\n",
      "numIterations: 1\n",
      "+--------------------+\n",
      "|           residuals|\n",
      "+--------------------+\n",
      "|   0.744641065055044|\n",
      "|  0.3415044942755673|\n",
      "| 0.22914286596482009|\n",
      "|  0.4336411245087861|\n",
      "|-0.16619613994253157|\n",
      "|  0.4281258830087288|\n",
      "|  0.8269273826385848|\n",
      "|  0.8145133898550703|\n",
      "| 0.47458440838266863|\n",
      "|-0.19488222208265238|\n",
      "|  0.4291770648565912|\n",
      "|-0.26254103693695696|\n",
      "| -0.3981430827242153|\n",
      "| 0.47740754246139183|\n",
      "|-0.16886628057351338|\n",
      "|-0.21177017178781282|\n",
      "|-0.19831624693620326|\n",
      "|-0.21130748370680935|\n",
      "|-0.28056886733244074|\n",
      "|-0.22812000855951745|\n",
      "+--------------------+\n",
      "only showing top 20 rows\n",
      "\n"
     ]
    }
   ],
   "source": [
    "# Print the coefficients and intercept for linear regression\n",
    "print(\"Coefficients: %s\" % str(lrModel.coefficients))\n",
    "print(\"Intercept: %s\" % str(lrModel.intercept))\n",
    "\n",
    "# Summarize the model over the training set and print out some metrics\n",
    "trainingSummary = lrModel.summary\n",
    "print(\"numIterations: %d\" % trainingSummary.totalIterations)\n",
    "trainingSummary.residuals.show()\n"
   ]
  }
 ],
 "metadata": {
  "anaconda-cloud": {},
  "kernelspec": {
   "display_name": "Python [Root]",
   "language": "python",
   "name": "Python [Root]"
  },
  "language_info": {
   "codemirror_mode": {
    "name": "ipython",
    "version": 3
   },
   "file_extension": ".py",
   "mimetype": "text/x-python",
   "name": "python",
   "nbconvert_exporter": "python",
   "pygments_lexer": "ipython3",
   "version": "3.5.2"
  }
 },
 "nbformat": 4,
 "nbformat_minor": 0
}
